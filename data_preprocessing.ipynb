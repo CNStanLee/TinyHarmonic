{
 "cells": [
  {
   "cell_type": "markdown",
   "id": "3c9672cb",
   "metadata": {},
   "source": [
    "# Obtain the datasets"
   ]
  },
  {
   "cell_type": "markdown",
   "id": "388062b1",
   "metadata": {},
   "source": [
    "## download the dataset"
   ]
  },
  {
   "cell_type": "code",
   "execution_count": 12,
   "id": "84c720fb",
   "metadata": {},
   "outputs": [
    {
     "name": "stderr",
     "output_type": "stream",
     "text": [
      "Downloading...\n",
      "From (original): https://drive.google.com/uc?id=1CdLTcBdjL95zlAgB-onMuQqPJ6HJM4bA\n",
      "From (redirected): https://drive.google.com/uc?id=1CdLTcBdjL95zlAgB-onMuQqPJ6HJM4bA&confirm=t&uuid=3efe4b8b-f1a5-4021-ba1a-a8f0e1203aa6\n",
      "To: /home/changhong/prj/finn_dev/finn/script/DATE2025/TinyHarmonic/data/ids/ids.zip\n",
      "100%|██████████| 41.7M/41.7M [00:02<00:00, 17.3MB/s]\n",
      "Downloading...\n",
      "From: https://drive.google.com/uc?id=1B10CmlWIx_n1kC4WmvQhYLzA-tgpT3Kp\n",
      "To: /home/changhong/prj/finn_dev/finn/script/DATE2025/TinyHarmonic/data/real_data/EV_CPW.zip\n",
      "100%|██████████| 4.98M/4.98M [00:00<00:00, 15.5MB/s]\n"
     ]
    }
   ],
   "source": [
    "import gdown\n",
    "import os\n",
    "# cyber_data\n",
    "file_id = \"1CdLTcBdjL95zlAgB-onMuQqPJ6HJM4bA\"\n",
    "output_path = \"./data/ids/ids.zip\"\n",
    "url = f\"https://drive.google.com/uc?id={file_id}\"\n",
    "os.makedirs(os.path.dirname(output_path), exist_ok=True)\n",
    "# if the file does not exist, download it\n",
    "if not os.path.exists(output_path):\n",
    "    gdown.download(url, output_path, quiet=False)\n",
    "\n",
    "# harmonic realdata\n",
    "file_id = '1B10CmlWIx_n1kC4WmvQhYLzA-tgpT3Kp' \n",
    "output_path = './data/real_data/EV_CPW.zip'\n",
    "url = f\"https://drive.google.com/uc?id={file_id}\"\n",
    "os.makedirs(os.path.dirname(output_path), exist_ok=True)\n",
    "if not os.path.exists(output_path):\n",
    "    gdown.download(url, output_path, quiet=False)\n"
   ]
  },
  {
   "cell_type": "markdown",
   "id": "257349e7",
   "metadata": {},
   "source": [
    "## unzip the dataset"
   ]
  },
  {
   "cell_type": "code",
   "execution_count": 14,
   "id": "fbc13c59",
   "metadata": {},
   "outputs": [],
   "source": [
    "# unzip the files\n",
    "import zipfile\n",
    "def unzip_file(zip_path, extract_to):\n",
    "    with zipfile.ZipFile(zip_path, 'r') as zip_ref:\n",
    "        zip_ref.extractall(extract_to)\n",
    "unzip_file('./data/ids/ids.zip', './data/ids/')\n",
    "unzip_file('./data/real_data/EV_CPW.zip', './data/real_data/')"
   ]
  }
 ],
 "metadata": {
  "kernelspec": {
   "display_name": "py310",
   "language": "python",
   "name": "python3"
  },
  "language_info": {
   "codemirror_mode": {
    "name": "ipython",
    "version": 3
   },
   "file_extension": ".py",
   "mimetype": "text/x-python",
   "name": "python",
   "nbconvert_exporter": "python",
   "pygments_lexer": "ipython3",
   "version": "3.10.16"
  }
 },
 "nbformat": 4,
 "nbformat_minor": 5
}
